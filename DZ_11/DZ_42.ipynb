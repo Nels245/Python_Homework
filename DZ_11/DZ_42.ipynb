{
 "cells": [
  {
   "cell_type": "markdown",
   "metadata": {},
   "source": [
    "Задача 42: Узнать какая максимальная households в зоне минимального значения population"
   ]
  },
  {
   "cell_type": "code",
   "execution_count": 5,
   "metadata": {},
   "outputs": [
    {
     "data": {
      "text/plain": [
       "5.0"
      ]
     },
     "execution_count": 5,
     "metadata": {},
     "output_type": "execute_result"
    }
   ],
   "source": [
    "import pandas as pd\n",
    "\n",
    "df = pd.read_csv(\"C:\\\\Users\\\\Nels\\\\Desktop\\\\Gekk\\\\python\\\\Homework\\\\DZ_11\\\\california_housing_train.csv\")\n",
    "\n",
    "df[df['population'] == df['population'].min()]['households'].max()"
   ]
  }
 ],
 "metadata": {
  "kernelspec": {
   "display_name": "Python 3.11.1 64-bit",
   "language": "python",
   "name": "python3"
  },
  "language_info": {
   "codemirror_mode": {
    "name": "ipython",
    "version": 3
   },
   "file_extension": ".py",
   "mimetype": "text/x-python",
   "name": "python",
   "nbconvert_exporter": "python",
   "pygments_lexer": "ipython3",
   "version": "3.11.1"
  },
  "orig_nbformat": 4,
  "vscode": {
   "interpreter": {
    "hash": "c88836ce537cd429bf2df63bab2177c59d310baf61e28171afbf99a36286d3e2"
   }
  }
 },
 "nbformat": 4,
 "nbformat_minor": 2
}
